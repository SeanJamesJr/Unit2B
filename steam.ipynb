{
 "cells": [
  {
   "cell_type": "code",
   "execution_count": 1,
   "metadata": {},
   "outputs": [],
   "source": [
    "import gpt_2_simple as gpt2"
   ]
  },
  {
   "cell_type": "code",
   "execution_count": 2,
   "metadata": {},
   "outputs": [],
   "source": [
    "#gpt2.download_gpt2(model_name='124M')\n"
   ]
  },
  {
   "cell_type": "code",
   "execution_count": 3,
   "metadata": {},
   "outputs": [],
   "source": [
    "session = gpt2.start_tf_sess()"
   ]
  },
  {
   "cell_type": "code",
   "execution_count": 4,
   "metadata": {},
   "outputs": [
    {
     "name": "stderr",
     "output_type": "stream",
     "text": [
      "2023-12-19 10:13:11.710621: I tensorflow/compiler/mlir/mlir_graph_optimization_pass.cc:388] MLIR V1 optimization pass is not enabled\n"
     ]
    },
    {
     "name": "stdout",
     "output_type": "stream",
     "text": [
      "Loading checkpoint checkpoint/steam/model-30\n",
      "INFO:tensorflow:Restoring parameters from checkpoint/steam/model-30\n",
      "Loading dataset...\n"
     ]
    },
    {
     "name": "stderr",
     "output_type": "stream",
     "text": [
      "100%|██████████| 1/1 [00:00<00:00, 1451.82it/s]"
     ]
    },
    {
     "name": "stdout",
     "output_type": "stream",
     "text": [
      "dataset has 2174 tokens\n",
      "Training...\n"
     ]
    },
    {
     "name": "stderr",
     "output_type": "stream",
     "text": [
      "\n"
     ]
    },
    {
     "name": "stdout",
     "output_type": "stream",
     "text": [
      "[31 | 18.23] loss=0.03 avg=0.03\n",
      "[32 | 37.67] loss=0.07 avg=0.05\n",
      "[33 | 56.40] loss=0.07 avg=0.06\n",
      "[34 | 74.68] loss=0.03 avg=0.05\n",
      "[35 | 92.84] loss=0.03 avg=0.05\n",
      "[36 | 111.43] loss=0.05 avg=0.05\n",
      "[37 | 129.65] loss=0.03 avg=0.05\n",
      "[38 | 147.92] loss=0.03 avg=0.04\n",
      "[39 | 166.56] loss=0.03 avg=0.04\n",
      "[40 | 184.91] loss=0.02 avg=0.04\n",
      "[41 | 202.85] loss=0.02 avg=0.04\n",
      "[42 | 221.10] loss=0.03 avg=0.04\n",
      "[43 | 239.55] loss=0.01 avg=0.04\n",
      "[44 | 258.22] loss=0.02 avg=0.03\n",
      "[45 | 276.72] loss=0.01 avg=0.03\n",
      "[46 | 294.84] loss=0.02 avg=0.03\n",
      "[47 | 312.80] loss=0.02 avg=0.03\n",
      "[48 | 330.96] loss=0.02 avg=0.03\n",
      "[49 | 349.29] loss=0.02 avg=0.03\n",
      "[50 | 367.10] loss=0.02 avg=0.03\n",
      "[51 | 384.98] loss=0.02 avg=0.03\n",
      "[52 | 403.15] loss=0.01 avg=0.03\n",
      "[53 | 421.41] loss=0.01 avg=0.03\n",
      "[54 | 439.36] loss=0.01 avg=0.03\n",
      "[55 | 456.93] loss=0.03 avg=0.03\n",
      "[56 | 474.79] loss=0.02 avg=0.03\n",
      "[57 | 492.18] loss=0.02 avg=0.03\n",
      "[58 | 509.48] loss=0.02 avg=0.03\n",
      "[59 | 527.39] loss=0.03 avg=0.03\n",
      "[60 | 545.29] loss=0.01 avg=0.03\n",
      "[61 | 563.57] loss=0.01 avg=0.03\n",
      "[62 | 581.58] loss=0.02 avg=0.03\n",
      "[63 | 599.72] loss=0.02 avg=0.03\n",
      "[64 | 617.44] loss=0.01 avg=0.02\n",
      "[65 | 634.78] loss=0.02 avg=0.02\n",
      "[66 | 652.25] loss=0.02 avg=0.02\n",
      "[67 | 669.35] loss=0.01 avg=0.02\n",
      "[68 | 686.54] loss=0.02 avg=0.02\n",
      "[69 | 705.40] loss=0.01 avg=0.02\n",
      "interrupted\n",
      "Saving checkpoint/steam/model-69\n"
     ]
    }
   ],
   "source": [
    "gpt2.finetune(session,'steam.txt',model_name='124M',steps=40, run_name='steam')"
   ]
  },
  {
   "cell_type": "code",
   "execution_count": 13,
   "metadata": {},
   "outputs": [
    {
     "name": "stdout",
     "output_type": "stream",
     "text": [
      "Q.How much does it cost to attend to the Steam Center program? How do I participate?\n",
      "\n",
      "A: The program is free of charge, and participants are compensated if they make a deposit.\n",
      "\n",
      "How can I find out more about the Brooklyn STEAM Center?\n",
      "\n",
      "A: The Brooklyn STEAM Center is located on the Brooklyn STEAM Center, a non-smoking establishment that does not contain alcoholic beverages. Participants are able to visit the Brooklyn STEAM Center for non-smoking beverages and/or glassed lunches.\n",
      "\n",
      "Q: What should I be looking at to start my journey in understanding the STEAM model?\n",
      "\n",
      "A: The Brooklyn STEAM Center is located on the Brooklyn STEAM Center, a non-smoking establishment that does not contain alcoholic beverages. Participants are able to visit the Brooklyn STEAM Center for non-smoking beverages and/or glassed lunches.Q: Do you track students into a particular option?\n",
      "\n",
      "A: No, we believe in supporting our youth with a pathway that works best with their needs. College, trade school, and apprenticeships all have their own advantages, that we present to our youth for them to make an informed decision.\n",
      "\n",
      "Q: What’s an articulation agreement?\n",
      "\n",
      "A: In short, it is a formalized document between our institution and yours that illustrates the pipeline recruitment strategy to your pathway, which comes with the added benefits of having highly interested and pre-trained scholars that typically come with some form of incentive (e.g. Prior Learning Credit, Fee Waiver, etc.).\n",
      "\n",
      "\n",
      "Q: What should I be looking at to start my journey in understanding the STEAM model?\n",
      "\n",
      "\n",
      "Q: Do you do tours?\n",
      "\n",
      "A: Yes, please reach out via our contact form to request a tour. \n",
      "\n",
      "Q:I want to spend a whole day with you to really learn about your model, is something like that possible?\n",
      "\n",
      "A:Inspiration visits are possible, for individuals and teams, which can span several hours or days. Please reach out to us so that we can collaborate on bringing that vision to life.\n",
      "\n",
      "\n",
      "Q: Is there a fee for these explorations?\n",
      "\n",
      "A: It depends, we want to share our model as much as we can, and based on our conversation about collaboration, deep engagements may have a small fee. Rest assured these funds are used to add to our scholar compensation fund for our internship program.\n",
      "\n",
      "Q: When do the Brooklyn STEAM Center programs occur?\n",
      "A: The Brooklyn STEAM Center programs occur during the regular school day, in the morning for Year 2 scholars and in the afternoon for Year 1 scholars. We operate the same days as the partner high school, offering instruction five days a week for 2.5 hours each day.\n",
      "\n",
      "Q:Wait a second, you said that students will be splitting their day, what does that mean?\n",
      "A:The Brooklyn STEAM Center is located on the Brooklyn Navy Yard, which is geographically separate from all of our partner high schools. Scholars in our program spend half of their school day with us and the other half at their home high school. We provide complimentary yellow bus shuttles during the middle of the day for scholars to travel between the two locations to ensure punctuality and avoid harsh weather.\n",
      "\n",
      "Q :How does this impact my high school graduation requirements?\n",
      "A: Our CTE Programs actually enable scholars to reduce their required 6 credits of LOTE (Language Other Than English) to 2 credits. In addition, we provide 13 elective credits (five more than required) on a scholar’s transcript that will heighten their GPA and stand out to colleges. In addition, we offer a bonus credit course for our internship program. Furthermore, scholars qualify for advanced annotations on their high school diplomas for the successful completion of our program.\n",
      "\n",
      "This sounds great, but how much does it cost?\n",
      "The Brooklyn STEAM Center is operated by the New York City Department of Education, therefore as a public school, there is NO cost for scholars to attend. We cover the cost of all equipment, supplies, and fees.\n",
      "\n",
      "How can I find out more about the Brooklyn STEAM Center?\n",
      "A typical first step is to speak to your school’s counselor. Scholars accepted into the cohort will be able to visit the Brooklyn STEAM Center, once in Grade 9 and again in Grade 10, for specific guided tours. In addition, we offer exploratory opportunities for potential applicants to ‘try it on’ with our instructors during Grade 10. We also conduct a Brooklyn Navy Yard tour to meet our business partners in Grade 9. Private tours are available upon request.\n",
      "\n",
      "Do I need to be a certain “type” of student to be accepted?\n",
      "No. We accept students from all eight of our partner schools in an unbiased manner. We do not screen based on grades, demographics, special education, or language proficiency status. If you have concerns about a\n"
     ]
    }
   ],
   "source": [
    "gpt2.generate(session,prefix='Q.How much does it cost to attend to the Steam Center')"
   ]
  },
  {
   "cell_type": "code",
   "execution_count": 11,
   "metadata": {},
   "outputs": [
    {
     "name": "stdout",
     "output_type": "stream",
     "text": [
      "Q.Does the brooklyn steam Center pay interns or is there fee?\n",
      "\n",
      "A: The brooklyn steam Center pays the interns, which comes with the added benefits of having a budget that is invested in the initiative. As a organization, the brooklyn steam Center is invested in our initiative, so we may have some flexibility.\n",
      "\n",
      "Q: When do the Brooklyn STEAM Center programs occur?\n",
      "A: The Brooklyn STEAM Center programs occur during the regular school day, in the morning for Year 2 scholars and in the afternoon for Year 1 scholars. We operate the same days as the partner high school, offering instruction five days a week for 2.5 hours each day.\n",
      "\n",
      "Q:Wait a second, you said that students will be splitting their day, what does that mean?\n",
      "A:The Brooklyn STEAM Center is located on the Brooklyn Navy Yard, which is geographically separate from all of our partner high schools. Scholars in our program spend half of their school day with us and the other half at their home high school. We provide complimentary yellow bus shuttles during the middle of the day for scholars to travel between the two locations to ensure punctuality and avoid harsh weather.\n",
      "\n",
      "Q :How does this impact my high school graduation requirements?\n",
      "A: Our CTE Programs actually enable scholars to reduce their required 6 credits of LOTE (Language Other Than English) to 2 credits. In addition, we provide 13 elective credits (five more than required) on a scholar’s transcript that will heighten their GPA and stand out to colleges. In addition, we offer a bonus credit course for our internship program. Furthermore, scholars qualify for advanced annotations on their high school diplomas for the successful completion of our program.\n",
      "\n",
      "This sounds great, but how much does it cost?\n",
      "The Brooklyn STEAM Center is operated by the New York City Department of Education, therefore as a public school, there is NO cost for scholars to attend. We cover the cost of all equipment, supplies, and fees.\n",
      "\n",
      "How can I find out more about the Brooklyn STEAM Center?\n",
      "A typical first step is to speak to your school’s counselor. Scholars accepted into the cohort will be able to visit the Brooklyn STEAM Center, once in Grade 9 and again in Grade 10, for specific guided tours. In addition, we offer exploratory opportunities for potential applicants to ‘try it on’ with our instructors during Grade 10. We also conduct a Brooklyn Navy Yard tour to meet our business partners in Grade 9. Private tours are available upon request.\n",
      "\n",
      "Do I need to be a certain “type” of student to be accepted?\n",
      "No. We accept students from all eight of our partner schools in an unbiased manner. We do not screen based on grades, demographics, special education, or language proficiency status. If you have concerns about a specific scholar limitation and being able to participate please let us know, we believe that anyone can learn!\n",
      "\n",
      "Do I need to be a certain “type” of student to be accepted?\n",
      "No. We accept students from all eight of our partner schools in an unbiased manner. We do not screen based on grades, demographics, special education, or language proficiency status. If you have concerns about a specific scholar limitation and being able to participate please let us know, we believe that anyone can learn!\n",
      "\n",
      "Beyond the coursework, what else does the Brooklyn STEAM Center provide?\n",
      "Scholars are eligible for paid internships with one of our industry partners, prior learning credits and/or priority admission with our partner colleges, access to free testing for industry-recognized credentials, and a supportive community that is built around working with our scholars for their future.\n",
      "\n",
      "How/When do I decide which CTE pathway I want to study? Can I choose more than one?\n",
      "You will rank all of the CTE Programs on the supplemental application that you will complete near the end of Grade 10. Scholars typically attain their first choice. Unfortunately, our programs are designed for two full years of instruction, which means you can only enroll in one program.\n",
      "\n",
      "How will I know that I was accepted? Is there an orientation?\n",
      "The scholar, identified parent/guardian, and the respective school counselor will receive an email notification that you have been accepted that will also identify the appropriate CTE program that you can either accept or decline. Accepted scholars and their families will be invited to an orientation.\n",
      "\n",
      "What should I do if I have any questions or concerns?\n",
      "We have two recommendations, speak to your home high school counselor and/or email our admissions director.\n",
      "\n",
      "Although I’ve graduated, can you still help me with “X”?\n",
      "We say, “Once STEAM, Always STEAM”, so please reach out and we will link you with a member of our team or a support service to assist you in solving your problem.\n",
      "\n",
      "Does the Brooklyn STEAM Center offer anything\n"
     ]
    }
   ],
   "source": [
    "gpt2.generate(session,prefix='Q.Does the brooklyn steam Center pay interns')"
   ]
  },
  {
   "cell_type": "code",
   "execution_count": 14,
   "metadata": {},
   "outputs": [
    {
     "name": "stdout",
     "output_type": "stream",
     "text": [
      "Q.When is the steam center open ?’?\n",
      "\n",
      "How can I find out more about the Brooklyn STEAM Center?\n",
      "\n",
      "Q: Is there a fee for the visit?\n",
      "\n",
      "A: It depends, we want to share our model as much as we can, and based on our conversation about collaboration, deep engagements may have a small fee. Rest assured these funds are used to add to our scholar compensation fund for our internship program.\n",
      "\n",
      "Q: When do the Brooklyn STEAM Center programs occur?\n",
      "A: The Brooklyn STEAM Center programs occur during the regular school day, in the morning for Year 2 scholars and in the afternoon for Year 1 scholars. We operate the same days as the partner high school, offering instruction five days a week for 2.5 hours each day.\n",
      "\n",
      "Q:Wait a second, you said that students will be splitting their day, what does that mean?\n",
      "A:The Brooklyn STEAM Center is located on the Brooklyn Navy Yard, which is geographically separate from all of our partner high schools. Scholars in our program spend half of their school day with us and the other half at their home high school. We provide complimentary yellow bus shuttles during the middle of the day for scholars to travel between the two locations to ensure punctuality and avoid harsh weather.\n",
      "\n",
      "Q :How does this impact my high school graduation requirements?\n",
      "A: Our CTE Programs actually enable scholars to reduce their required 6 credits of LOTE (Language Other Than English) to 2 credits. In addition, we provide 13 elective credits (five more than required) on a scholar’s transcript that will heighten their GPA and stand out to colleges. In addition, we offer a bonus credit course for our internship program. Furthermore, scholars qualify for advanced annotations on their high school diplomas for the successful completion of our program.\n",
      "\n",
      "This sounds great, but how much does it cost?\n",
      "The Brooklyn STEAM Center is operated by the New York City Department of Education, therefore as a public school, there is NO cost for scholars to attend. We cover the cost of all equipment, supplies, and fees.\n",
      "\n",
      "How can I find out more about the Brooklyn STEAM Center?\n",
      "A typical first step is to speak to your school’s counselor. Scholars accepted into the cohort will be able to visit the Brooklyn STEAM Center, once in Grade 9 and again in Grade 10, for specific guided tours. In addition, we offer exploratory opportunities for potential applicants to ‘try it on’ with our instructors during Grade 10. We also conduct a Brooklyn Navy Yard tour to meet our business partners in Grade 9. Private tours are available upon request.\n",
      "\n",
      "Do I need to be a certain “type” of student to be accepted?\n",
      "No. We accept students from all eight of our partner schools in an unbiased manner. We do not screen based on grades, demographics, special education, or language proficiency status. If you have concerns about a specific scholar limitation and being able to participate please let us know, we believe that anyone can learn!\n",
      "\n",
      "Do I need to be a certain “type” of student to be accepted?\n",
      "No. We accept students from all eight of our partner schools in an unbiased manner. We do not screen based on grades, demographics, special education, or language proficiency status. If you have concerns about a specific scholar limitation and being able to participate please let us know, we believe that anyone can learn!\n",
      "\n",
      "Beyond the coursework, what else does the Brooklyn STEAM Center provide?\n",
      "Scholars are eligible for paid internships with one of our industry partners, prior learning credits and/or priority admission with our partner colleges, access to free testing for industry-recognized credentials, and a supportive community that is built around working with our scholars for their future.\n",
      "\n",
      "How/When do I decide which CTE pathway I want to study? Can I choose more than one?\n",
      "You will rank all of the CTE Programs on the supplemental application that you will complete near the end of Grade 10. Scholars typically attain their first choice. Unfortunately, our programs are designed for two full years of instruction, which means you can only enroll in one program.\n",
      "\n",
      "How will I know that I was accepted? Is there an orientation?\n",
      "The scholar, identified parent/guardian, and the respective school counselor will receive an email notification that you have been accepted that will also identify the appropriate CTE program that you can either accept or decline. Accepted scholars and their families will be invited to an orientation.\n",
      "\n",
      "What should I do if I have any questions or concerns?\n",
      "We have two recommendations, speak to your home high school counselor and/or email our admissions director.\n",
      "\n",
      "Although I’ve graduated, can you still help me with “X”?\n",
      "We say, “Once STEAM, Always STEAM”, so please reach out and we will link you with a member of our\n"
     ]
    }
   ],
   "source": [
    "gpt2.generate(session,prefix='Q.When is the steam center open ')"
   ]
  }
 ],
 "metadata": {
  "kernelspec": {
   "display_name": "Python 3",
   "language": "python",
   "name": "python3"
  },
  "language_info": {
   "codemirror_mode": {
    "name": "ipython",
    "version": 3
   },
   "file_extension": ".py",
   "mimetype": "text/x-python",
   "name": "python",
   "nbconvert_exporter": "python",
   "pygments_lexer": "ipython3",
   "version": "3.10.9"
  },
  "orig_nbformat": 4,
  "vscode": {
   "interpreter": {
    "hash": "b0fa6594d8f4cbf19f97940f81e996739fb7646882a419484c72d19e05852a7e"
   }
  }
 },
 "nbformat": 4,
 "nbformat_minor": 2
}
