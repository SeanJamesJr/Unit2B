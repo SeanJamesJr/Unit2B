{
 "cells": [
  {
   "cell_type": "code",
   "execution_count": 2,
   "metadata": {},
   "outputs": [],
   "source": [
    "import gpt_2_simple as gpt2\n"
   ]
  },
  {
   "cell_type": "code",
   "execution_count": 3,
   "metadata": {},
   "outputs": [],
   "source": [
    "#gpt2.download_gpt2(model_name='124M')"
   ]
  },
  {
   "cell_type": "code",
   "execution_count": 4,
   "metadata": {},
   "outputs": [],
   "source": [
    "session = gpt2.start_tf_sess()"
   ]
  },
  {
   "cell_type": "code",
   "execution_count": 5,
   "metadata": {},
   "outputs": [
    {
     "name": "stderr",
     "output_type": "stream",
     "text": [
      "2023-12-19 09:45:34.182547: I tensorflow/compiler/mlir/mlir_graph_optimization_pass.cc:388] MLIR V1 optimization pass is not enabled\n"
     ]
    },
    {
     "name": "stdout",
     "output_type": "stream",
     "text": [
      "Loading checkpoint checkpoint/run1/model-5\n",
      "INFO:tensorflow:Restoring parameters from checkpoint/run1/model-5\n",
      "Loading dataset...\n"
     ]
    },
    {
     "name": "stderr",
     "output_type": "stream",
     "text": [
      "100%|██████████| 1/1 [00:00<00:00,  1.41it/s]\n"
     ]
    },
    {
     "name": "stdout",
     "output_type": "stream",
     "text": [
      "dataset has 338024 tokens\n",
      "Training...\n",
      "interrupted\n",
      "Saving checkpoint/run1/model-5\n"
     ]
    }
   ],
   "source": [
    "gpt2.finetune(session,'shakespeare.txt',model_name='124M',steps=20)"
   ]
  },
  {
   "cell_type": "code",
   "execution_count": null,
   "metadata": {},
   "outputs": [
    {
     "name": "stdout",
     "output_type": "stream",
     "text": [
      "Megumi: WITH THIS TREASURE I SUMMONED THAT TEN TEN YEARS AFTER I SHOOT THE RESISTOR.\n",
      "\n",
      "Another little gem. a boy, about the age of 9, was being dragged by a dog into an old house. He got in a car and ran to the house.\n",
      "\n",
      "The dog came in and wanted to go, but it was too late.\n",
      "\n",
      "The boy came back with his dog.\n",
      "\n",
      "\n",
      "\n",
      "The boy then ran out of the house and ran to the front door of the house.\n",
      "\n",
      "He ran to the door and asked it to open.\n",
      "The door opened.\n",
      "\n",
      "The dog came in and ran off.\n",
      "\n",
      "The boy then ran back into the house.\n",
      "\n",
      "The boy ran back into the house.\n",
      "\n",
      "The boy then ran back into the house.\n",
      "\n",
      "\n",
      "The boy then ran back into the house.\n",
      "\n",
      "The boy then ran back into the church.\n",
      "He then ran back into the church.\n",
      "\n",
      "The boy then ran back into the church.\n",
      "The boy then ran back into the church.\n",
      "\n",
      "The boy then ran back into the church.\n",
      "The boy then ran back into the church.\n",
      "The boy then ran back into the church.\n",
      "\n",
      "The boy then ran back into the church.\n",
      "\n",
      "The boy then ran back into the church.\n",
      "\n",
      "The boy then ran back into the church.\n",
      "The boy then ran back into the church.\n",
      "\n",
      "\n",
      "Afterward, the boy ran to the door of the church, and didn't return.\n",
      "\n",
      "\n",
      "As he came out of the church, the boy ran to the door and asked for it to open.\n",
      "\n",
      "\n",
      "The door opened.\n",
      "\n",
      "\n",
      "The boy then ran to the door and asked for it to open.\n",
      "\n",
      "\n",
      "The door opened.\n",
      "\n",
      "\n",
      "The boy then ran to the door and asked for it to open.\n",
      "\n",
      "\n",
      "The door opened.\n",
      "\n",
      "\n",
      "The boy then ran to the door and asked for it to open.\n",
      "\n",
      "\n",
      "The door opened.\n",
      "\n",
      "\n",
      "The boy then ran to the door and asked for it to open.\n",
      "\n",
      "\n",
      "The door opened.\n",
      "\n",
      "\n",
      "The boy then ran to the door and asked for it to open.\n",
      "\n",
      "\n",
      "The door opened.\n",
      "\n",
      "\n",
      "The boy then ran to the door and asked for it to open.\n",
      "\n",
      "\n",
      "The door opened.\n",
      "\n",
      "\n",
      "The boy then ran to the door and asked for it to open.\n",
      "\n",
      "\n",
      "The door opened.\n",
      "\n",
      "\n",
      "The boy then ran to the door and asked for it to open.\n",
      "\n",
      "\n",
      "The door opened.\n",
      "\n",
      "\n",
      "The boy then ran to the door and asked for it to open.\n",
      "\n",
      "\n",
      "The door opened.\n",
      "\n",
      "\n",
      "The boy then ran to the door and asked for it to open.\n",
      "\n",
      "\n",
      "The door opened.\n",
      "\n",
      "\n",
      "The boy then ran to the door and asked for it to open.\n",
      "\n",
      "\n",
      "The door opened.\n",
      "\n",
      "\n",
      "The boy then ran to the door and asked for it to open.\n",
      "\n",
      "\n",
      "The door opened.\n",
      "\n",
      "\n",
      "The boy then ran to the door and asked for it to open.<|endoftext|>Sega has decided to release a game for handhelds in the future.\n",
      "\n",
      "The company announced today that the company will release the Nintendo 64 and the Nintendo DS games for the first time.\n",
      "\n",
      "This announcement comes as the company continues to try and fix problems in its handhelds.\n",
      "\n",
      "The company has also announced that it will be releasing an Wii U version of the game, as well as a PSP version.\n",
      "\n",
      "Sega have already released some of its games for the new handhelds, and it's yet to announce what they'll include.\n",
      "\n",
      "The company is also releasing a new game, a new look at the Sega 64, and a new look at the Wii U.\n",
      "\n",
      "This is the first time that the company has released a new game for a handheld.\n",
      "\n",
      "The company also announced a new game on the Wii U, as well as a new look at the Wii U.<|endoftext|>A new law in the UK could make it harder for young people to get a job when they're in their mid-30s, according to a report by the Financial Times and the Guardian.\n",
      "\n",
      "The law, called the \"Rise of the Penny\" the Bill of Rights, was introduced by the government last year and will be passed by Parliament in a month. The bill is being criticised by the left-wing website Breitbart.\n",
      "\n",
      "The study, which looks at a range of issues, found that a young person's chances of getting a job when they're in their 30s were two thirds the risk of being laid off, while those in their 50s were two-thirds.\n",
      "\n",
      "The report, which has been criticised by the left-wing website, found that a young person's chances of getting a job when they're in their 30s were two thirds the risk of being laid off, while those in their 50s were two-thirds.\n",
      "\n",
      "\"Young people are an increasingly limited group, and\n"
     ]
    }
   ],
   "source": [
    "gpt2.generate(session,prefix='Megumi: WITH THIS TREASURE I SUMMON')"
   ]
  }
 ],
 "metadata": {
  "kernelspec": {
   "display_name": "Python 3",
   "language": "python",
   "name": "python3"
  },
  "language_info": {
   "codemirror_mode": {
    "name": "ipython",
    "version": 3
   },
   "file_extension": ".py",
   "mimetype": "text/x-python",
   "name": "python",
   "nbconvert_exporter": "python",
   "pygments_lexer": "ipython3",
   "version": "3.10.9"
  },
  "orig_nbformat": 4,
  "vscode": {
   "interpreter": {
    "hash": "b0fa6594d8f4cbf19f97940f81e996739fb7646882a419484c72d19e05852a7e"
   }
  }
 },
 "nbformat": 4,
 "nbformat_minor": 2
}
